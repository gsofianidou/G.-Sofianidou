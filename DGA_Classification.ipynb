{
  "nbformat": 4,
  "nbformat_minor": 0,
  "metadata": {
    "colab": {
      "provenance": [],
      "include_colab_link": true
    },
    "kernelspec": {
      "name": "python3",
      "display_name": "Python 3"
    },
    "widgets": {
      "application/vnd.jupyter.widget-state+json": {
        "e41982af248f478c93b2432bfdef66e9": {
          "model_module": "@jupyter-widgets/controls",
          "model_name": "VBoxModel",
          "model_module_version": "1.5.0",
          "state": {
            "_dom_classes": [
              "widget-interact"
            ],
            "_model_module": "@jupyter-widgets/controls",
            "_model_module_version": "1.5.0",
            "_model_name": "VBoxModel",
            "_view_count": null,
            "_view_module": "@jupyter-widgets/controls",
            "_view_module_version": "1.5.0",
            "_view_name": "VBoxView",
            "box_style": "",
            "children": [
              "IPY_MODEL_42e6ed3bd07b49ccbac8a15a36eea339",
              "IPY_MODEL_9465d4b1c52e405f8a77c5e968f00597"
            ],
            "layout": "IPY_MODEL_2f9a61aad52f454b863920629c8667bc"
          }
        },
        "42e6ed3bd07b49ccbac8a15a36eea339": {
          "model_module": "@jupyter-widgets/controls",
          "model_name": "ToggleButtonsModel",
          "model_module_version": "1.5.0",
          "state": {
            "_dom_classes": [],
            "_model_module": "@jupyter-widgets/controls",
            "_model_module_version": "1.5.0",
            "_model_name": "ToggleButtonsModel",
            "_options_labels": [
              "Pipeline Plot",
              "Hyperparameters",
              "AUC",
              "Confusion Matrix",
              "Threshold",
              "Precision Recall",
              "Prediction Error",
              "Class Report",
              "Feature Selection",
              "Learning Curve",
              "Manifold Learning",
              "Calibration Curve",
              "Validation Curve",
              "Dimensions",
              "Feature Importance",
              "Feature Importance (All)",
              "Decision Boundary",
              "Lift Chart",
              "Gain Chart",
              "Decision Tree",
              "KS Statistic Plot"
            ],
            "_view_count": null,
            "_view_module": "@jupyter-widgets/controls",
            "_view_module_version": "1.5.0",
            "_view_name": "ToggleButtonsView",
            "button_style": "",
            "description": "Plot Type:",
            "description_tooltip": null,
            "disabled": false,
            "icons": [
              ""
            ],
            "index": 14,
            "layout": "IPY_MODEL_0189e72ffc8d40698be1bcbab2aec704",
            "style": "IPY_MODEL_28d2207b87f946cf93d67c34c4efedac",
            "tooltips": []
          }
        },
        "9465d4b1c52e405f8a77c5e968f00597": {
          "model_module": "@jupyter-widgets/output",
          "model_name": "OutputModel",
          "model_module_version": "1.0.0",
          "state": {
            "_dom_classes": [],
            "_model_module": "@jupyter-widgets/output",
            "_model_module_version": "1.0.0",
            "_model_name": "OutputModel",
            "_view_count": null,
            "_view_module": "@jupyter-widgets/output",
            "_view_module_version": "1.0.0",
            "_view_name": "OutputView",
            "layout": "IPY_MODEL_2fef4e1267dd4beeb5e1d8ea57ebac3d",
            "msg_id": "",
            "outputs": [
              {
                "output_type": "display_data",
                "data": {
                  "text/plain": "<Figure size 800x500 with 1 Axes>",
                  "image/png": "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\n"
                },
                "metadata": {}
              }
            ]
          }
        },
        "2f9a61aad52f454b863920629c8667bc": {
          "model_module": "@jupyter-widgets/base",
          "model_name": "LayoutModel",
          "model_module_version": "1.2.0",
          "state": {
            "_model_module": "@jupyter-widgets/base",
            "_model_module_version": "1.2.0",
            "_model_name": "LayoutModel",
            "_view_count": null,
            "_view_module": "@jupyter-widgets/base",
            "_view_module_version": "1.2.0",
            "_view_name": "LayoutView",
            "align_content": null,
            "align_items": null,
            "align_self": null,
            "border": null,
            "bottom": null,
            "display": null,
            "flex": null,
            "flex_flow": null,
            "grid_area": null,
            "grid_auto_columns": null,
            "grid_auto_flow": null,
            "grid_auto_rows": null,
            "grid_column": null,
            "grid_gap": null,
            "grid_row": null,
            "grid_template_areas": null,
            "grid_template_columns": null,
            "grid_template_rows": null,
            "height": null,
            "justify_content": null,
            "justify_items": null,
            "left": null,
            "margin": null,
            "max_height": null,
            "max_width": null,
            "min_height": null,
            "min_width": null,
            "object_fit": null,
            "object_position": null,
            "order": null,
            "overflow": null,
            "overflow_x": null,
            "overflow_y": null,
            "padding": null,
            "right": null,
            "top": null,
            "visibility": null,
            "width": null
          }
        },
        "0189e72ffc8d40698be1bcbab2aec704": {
          "model_module": "@jupyter-widgets/base",
          "model_name": "LayoutModel",
          "model_module_version": "1.2.0",
          "state": {
            "_model_module": "@jupyter-widgets/base",
            "_model_module_version": "1.2.0",
            "_model_name": "LayoutModel",
            "_view_count": null,
            "_view_module": "@jupyter-widgets/base",
            "_view_module_version": "1.2.0",
            "_view_name": "LayoutView",
            "align_content": null,
            "align_items": null,
            "align_self": null,
            "border": null,
            "bottom": null,
            "display": null,
            "flex": null,
            "flex_flow": null,
            "grid_area": null,
            "grid_auto_columns": null,
            "grid_auto_flow": null,
            "grid_auto_rows": null,
            "grid_column": null,
            "grid_gap": null,
            "grid_row": null,
            "grid_template_areas": null,
            "grid_template_columns": null,
            "grid_template_rows": null,
            "height": null,
            "justify_content": null,
            "justify_items": null,
            "left": null,
            "margin": null,
            "max_height": null,
            "max_width": null,
            "min_height": null,
            "min_width": null,
            "object_fit": null,
            "object_position": null,
            "order": null,
            "overflow": null,
            "overflow_x": null,
            "overflow_y": null,
            "padding": null,
            "right": null,
            "top": null,
            "visibility": null,
            "width": null
          }
        },
        "28d2207b87f946cf93d67c34c4efedac": {
          "model_module": "@jupyter-widgets/controls",
          "model_name": "ToggleButtonsStyleModel",
          "model_module_version": "1.5.0",
          "state": {
            "_model_module": "@jupyter-widgets/controls",
            "_model_module_version": "1.5.0",
            "_model_name": "ToggleButtonsStyleModel",
            "_view_count": null,
            "_view_module": "@jupyter-widgets/base",
            "_view_module_version": "1.2.0",
            "_view_name": "StyleView",
            "button_width": "",
            "description_width": "",
            "font_weight": ""
          }
        },
        "2fef4e1267dd4beeb5e1d8ea57ebac3d": {
          "model_module": "@jupyter-widgets/base",
          "model_name": "LayoutModel",
          "model_module_version": "1.2.0",
          "state": {
            "_model_module": "@jupyter-widgets/base",
            "_model_module_version": "1.2.0",
            "_model_name": "LayoutModel",
            "_view_count": null,
            "_view_module": "@jupyter-widgets/base",
            "_view_module_version": "1.2.0",
            "_view_name": "LayoutView",
            "align_content": null,
            "align_items": null,
            "align_self": null,
            "border": null,
            "bottom": null,
            "display": null,
            "flex": null,
            "flex_flow": null,
            "grid_area": null,
            "grid_auto_columns": null,
            "grid_auto_flow": null,
            "grid_auto_rows": null,
            "grid_column": null,
            "grid_gap": null,
            "grid_row": null,
            "grid_template_areas": null,
            "grid_template_columns": null,
            "grid_template_rows": null,
            "height": null,
            "justify_content": null,
            "justify_items": null,
            "left": null,
            "margin": null,
            "max_height": null,
            "max_width": null,
            "min_height": null,
            "min_width": null,
            "object_fit": null,
            "object_position": null,
            "order": null,
            "overflow": null,
            "overflow_x": null,
            "overflow_y": null,
            "padding": null,
            "right": null,
            "top": null,
            "visibility": null,
            "width": null
          }
        }
      }
    }
  },
  "cells": [
    {
      "cell_type": "markdown",
      "metadata": {
        "id": "view-in-github",
        "colab_type": "text"
      },
      "source": [
        "<a href=\"https://colab.research.google.com/github/gsofianidou/G.-Sofianidou/blob/main/DGA_Classification.ipynb\" target=\"_parent\"><img src=\"https://colab.research.google.com/assets/colab-badge.svg\" alt=\"Open In Colab\"/></a>"
      ]
    },
    {
      "cell_type": "code",
      "metadata": {
        "id": "2rvGqQdY9C6s",
        "outputId": "4bd2b25d-e077-4aed-a289-15227ceae4bd",
        "colab": {
          "base_uri": "https://localhost:8080/"
        }
      },
      "source": [
        "#εγκατάσταση πακέτου pycaret (https://pycaret.org/)\n",
        "!pip install pycaret\n",
        "#***ΠΡΟΣΟΧΗ*** μετά την εγκατάσταση χρειάζεται restart το session\n",
        "#***θα σας ζητηθεί επανεκκίνηση με σχετικό κόκκινο μήνυμα μετά την ολοκλήρωση της εγκατάστασης\n",
        "#***Πατήστε το κουμπί RESTART SESSION στο σχετικό μήνυμα"
      ],
      "execution_count": null,
      "outputs": [
        {
          "output_type": "stream",
          "name": "stdout",
          "text": [
            "Collecting pycaret\n",
            "  Downloading pycaret-3.3.2-py3-none-any.whl (486 kB)\n",
            "\u001b[2K     \u001b[90m━━━━━━━━━━━━━━━━━━━━━━━━━━━━━━━━━━━━━━━━\u001b[0m \u001b[32m486.1/486.1 kB\u001b[0m \u001b[31m5.0 MB/s\u001b[0m eta \u001b[36m0:00:00\u001b[0m\n",
            "\u001b[?25hRequirement already satisfied: ipython>=5.5.0 in /usr/local/lib/python3.10/dist-packages (from pycaret) (7.34.0)\n",
            "Requirement already satisfied: ipywidgets>=7.6.5 in /usr/local/lib/python3.10/dist-packages (from pycaret) (7.7.1)\n",
            "Requirement already satisfied: tqdm>=4.62.0 in /usr/local/lib/python3.10/dist-packages (from pycaret) (4.66.4)\n",
            "Requirement already satisfied: numpy<1.27,>=1.21 in /usr/local/lib/python3.10/dist-packages (from pycaret) (1.25.2)\n",
            "Requirement already satisfied: pandas<2.2.0 in /usr/local/lib/python3.10/dist-packages (from pycaret) (2.0.3)\n",
            "Requirement already satisfied: jinja2>=3 in /usr/local/lib/python3.10/dist-packages (from pycaret) (3.1.4)\n",
            "Requirement already satisfied: scipy<=1.11.4,>=1.6.1 in /usr/local/lib/python3.10/dist-packages (from pycaret) (1.11.4)\n",
            "Collecting joblib<1.4,>=1.2.0 (from pycaret)\n",
            "  Downloading joblib-1.3.2-py3-none-any.whl (302 kB)\n",
            "\u001b[2K     \u001b[90m━━━━━━━━━━━━━━━━━━━━━━━━━━━━━━━━━━━━━━━━\u001b[0m \u001b[32m302.2/302.2 kB\u001b[0m \u001b[31m11.3 MB/s\u001b[0m eta \u001b[36m0:00:00\u001b[0m\n",
            "\u001b[?25hCollecting scikit-learn>1.4.0 (from pycaret)\n",
            "  Downloading scikit_learn-1.5.1-cp310-cp310-manylinux_2_17_x86_64.manylinux2014_x86_64.whl (13.4 MB)\n",
            "\u001b[2K     \u001b[90m━━━━━━━━━━━━━━━━━━━━━━━━━━━━━━━━━━━━━━━━\u001b[0m \u001b[32m13.4/13.4 MB\u001b[0m \u001b[31m21.1 MB/s\u001b[0m eta \u001b[36m0:00:00\u001b[0m\n",
            "\u001b[?25hCollecting pyod>=1.1.3 (from pycaret)\n",
            "  Downloading pyod-2.0.1.tar.gz (163 kB)\n",
            "\u001b[2K     \u001b[90m━━━━━━━━━━━━━━━━━━━━━━━━━━━━━━━━━━━━━━━━\u001b[0m \u001b[32m163.8/163.8 kB\u001b[0m \u001b[31m5.8 MB/s\u001b[0m eta \u001b[36m0:00:00\u001b[0m\n",
            "\u001b[?25h  Preparing metadata (setup.py) ... \u001b[?25l\u001b[?25hdone\n",
            "Collecting imbalanced-learn>=0.12.0 (from pycaret)\n",
            "  Downloading imbalanced_learn-0.12.3-py3-none-any.whl (258 kB)\n",
            "\u001b[2K     \u001b[90m━━━━━━━━━━━━━━━━━━━━━━━━━━━━━━━━━━━━━━━━\u001b[0m \u001b[32m258.3/258.3 kB\u001b[0m \u001b[31m9.4 MB/s\u001b[0m eta \u001b[36m0:00:00\u001b[0m\n",
            "\u001b[?25hCollecting category-encoders>=2.4.0 (from pycaret)\n",
            "  Downloading category_encoders-2.6.3-py2.py3-none-any.whl (81 kB)\n",
            "\u001b[2K     \u001b[90m━━━━━━━━━━━━━━━━━━━━━━━━━━━━━━━━━━━━━━━━\u001b[0m \u001b[32m81.9/81.9 kB\u001b[0m \u001b[31m6.9 MB/s\u001b[0m eta \u001b[36m0:00:00\u001b[0m\n",
            "\u001b[?25hRequirement already satisfied: lightgbm>=3.0.0 in /usr/local/lib/python3.10/dist-packages (from pycaret) (4.1.0)\n",
            "Requirement already satisfied: numba>=0.55.0 in /usr/local/lib/python3.10/dist-packages (from pycaret) (0.58.1)\n",
            "Requirement already satisfied: requests>=2.27.1 in /usr/local/lib/python3.10/dist-packages (from pycaret) (2.31.0)\n",
            "Requirement already satisfied: psutil>=5.9.0 in /usr/local/lib/python3.10/dist-packages (from pycaret) (5.9.5)\n",
            "Requirement already satisfied: markupsafe>=2.0.1 in /usr/local/lib/python3.10/dist-packages (from pycaret) (2.1.5)\n",
            "Requirement already satisfied: importlib-metadata>=4.12.0 in /usr/local/lib/python3.10/dist-packages (from pycaret) (8.0.0)\n",
            "Requirement already satisfied: nbformat>=4.2.0 in /usr/local/lib/python3.10/dist-packages (from pycaret) (5.10.4)\n",
            "Requirement already satisfied: cloudpickle in /usr/local/lib/python3.10/dist-packages (from pycaret) (2.2.1)\n",
            "Collecting deprecation>=2.1.0 (from pycaret)\n",
            "  Downloading deprecation-2.1.0-py2.py3-none-any.whl (11 kB)\n",
            "Collecting xxhash (from pycaret)\n",
            "  Downloading xxhash-3.4.1-cp310-cp310-manylinux_2_17_x86_64.manylinux2014_x86_64.whl (194 kB)\n",
            "\u001b[2K     \u001b[90m━━━━━━━━━━━━━━━━━━━━━━━━━━━━━━━━━━━━━━━━\u001b[0m \u001b[32m194.1/194.1 kB\u001b[0m \u001b[31m4.6 MB/s\u001b[0m eta \u001b[36m0:00:00\u001b[0m\n",
            "\u001b[?25hRequirement already satisfied: matplotlib<3.8.0 in /usr/local/lib/python3.10/dist-packages (from pycaret) (3.7.1)\n",
            "Collecting scikit-plot>=0.3.7 (from pycaret)\n",
            "  Downloading scikit_plot-0.3.7-py3-none-any.whl (33 kB)\n",
            "Requirement already satisfied: yellowbrick>=1.4 in /usr/local/lib/python3.10/dist-packages (from pycaret) (1.5)\n",
            "Requirement already satisfied: plotly>=5.14.0 in /usr/local/lib/python3.10/dist-packages (from pycaret) (5.15.0)\n",
            "Collecting kaleido>=0.2.1 (from pycaret)\n",
            "  Downloading kaleido-0.2.1-py2.py3-none-manylinux1_x86_64.whl (79.9 MB)\n",
            "\u001b[2K     \u001b[90m━━━━━━━━━━━━━━━━━━━━━━━━━━━━━━━━━━━━━━━━\u001b[0m \u001b[32m79.9/79.9 MB\u001b[0m \u001b[31m8.5 MB/s\u001b[0m eta \u001b[36m0:00:00\u001b[0m\n",
            "\u001b[?25hCollecting schemdraw==0.15 (from pycaret)\n",
            "  Downloading schemdraw-0.15-py3-none-any.whl (106 kB)\n",
            "\u001b[2K     \u001b[90m━━━━━━━━━━━━━━━━━━━━━━━━━━━━━━━━━━━━━━━━\u001b[0m \u001b[32m106.8/106.8 kB\u001b[0m \u001b[31m9.4 MB/s\u001b[0m eta \u001b[36m0:00:00\u001b[0m\n",
            "\u001b[?25hCollecting plotly-resampler>=0.8.3.1 (from pycaret)\n",
            "  Downloading plotly_resampler-0.10.0-py3-none-any.whl (80 kB)\n",
            "\u001b[2K     \u001b[90m━━━━━━━━━━━━━━━━━━━━━━━━━━━━━━━━━━━━━━━━\u001b[0m \u001b[32m80.7/80.7 kB\u001b[0m \u001b[31m9.1 MB/s\u001b[0m eta \u001b[36m0:00:00\u001b[0m\n",
            "\u001b[?25hRequirement already satisfied: statsmodels>=0.12.1 in /usr/local/lib/python3.10/dist-packages (from pycaret) (0.14.2)\n",
            "Collecting sktime==0.26.0 (from pycaret)\n",
            "  Downloading sktime-0.26.0-py3-none-any.whl (21.8 MB)\n",
            "\u001b[2K     \u001b[90m━━━━━━━━━━━━━━━━━━━━━━━━━━━━━━━━━━━━━━━━\u001b[0m \u001b[32m21.8/21.8 MB\u001b[0m \u001b[31m51.6 MB/s\u001b[0m eta \u001b[36m0:00:00\u001b[0m\n",
            "\u001b[?25hCollecting tbats>=1.1.3 (from pycaret)\n",
            "  Downloading tbats-1.1.3-py3-none-any.whl (44 kB)\n",
            "\u001b[2K     \u001b[90m━━━━━━━━━━━━━━━━━━━━━━━━━━━━━━━━━━━━━━━━\u001b[0m \u001b[32m44.0/44.0 kB\u001b[0m \u001b[31m7.1 MB/s\u001b[0m eta \u001b[36m0:00:00\u001b[0m\n",
            "\u001b[?25hCollecting pmdarima>=2.0.4 (from pycaret)\n",
            "  Downloading pmdarima-2.0.4-cp310-cp310-manylinux_2_17_x86_64.manylinux2014_x86_64.manylinux_2_28_x86_64.whl (2.1 MB)\n",
            "\u001b[2K     \u001b[90m━━━━━━━━━━━━━━━━━━━━━━━━━━━━━━━━━━━━━━━━\u001b[0m \u001b[32m2.1/2.1 MB\u001b[0m \u001b[31m64.5 MB/s\u001b[0m eta \u001b[36m0:00:00\u001b[0m\n",
            "\u001b[?25hCollecting wurlitzer (from pycaret)\n",
            "  Downloading wurlitzer-3.1.1-py3-none-any.whl (8.6 kB)\n",
            "Requirement already satisfied: packaging in /usr/local/lib/python3.10/dist-packages (from sktime==0.26.0->pycaret) (24.1)\n",
            "Collecting scikit-base<0.8.0 (from sktime==0.26.0->pycaret)\n",
            "  Downloading scikit_base-0.7.8-py3-none-any.whl (130 kB)\n",
            "\u001b[2K     \u001b[90m━━━━━━━━━━━━━━━━━━━━━━━━━━━━━━━━━━━━━━━━\u001b[0m \u001b[32m130.1/130.1 kB\u001b[0m \u001b[31m20.6 MB/s\u001b[0m eta \u001b[36m0:00:00\u001b[0m\n",
            "\u001b[?25hCollecting scikit-learn>1.4.0 (from pycaret)\n",
            "  Downloading scikit_learn-1.4.2-cp310-cp310-manylinux_2_17_x86_64.manylinux2014_x86_64.whl (12.1 MB)\n",
            "\u001b[2K     \u001b[90m━━━━━━━━━━━━━━━━━━━━━━━━━━━━━━━━━━━━━━━━\u001b[0m \u001b[32m12.1/12.1 MB\u001b[0m \u001b[31m62.8 MB/s\u001b[0m eta \u001b[36m0:00:00\u001b[0m\n",
            "\u001b[?25hRequirement already satisfied: patsy>=0.5.1 in /usr/local/lib/python3.10/dist-packages (from category-encoders>=2.4.0->pycaret) (0.5.6)\n",
            "Requirement already satisfied: threadpoolctl>=2.0.0 in /usr/local/lib/python3.10/dist-packages (from imbalanced-learn>=0.12.0->pycaret) (3.5.0)\n",
            "Requirement already satisfied: zipp>=0.5 in /usr/local/lib/python3.10/dist-packages (from importlib-metadata>=4.12.0->pycaret) (3.19.2)\n",
            "Requirement already satisfied: setuptools>=18.5 in /usr/local/lib/python3.10/dist-packages (from ipython>=5.5.0->pycaret) (67.7.2)\n",
            "Collecting jedi>=0.16 (from ipython>=5.5.0->pycaret)\n",
            "  Downloading jedi-0.19.1-py2.py3-none-any.whl (1.6 MB)\n",
            "\u001b[2K     \u001b[90m━━━━━━━━━━━━━━━━━━━━━━━━━━━━━━━━━━━━━━━━\u001b[0m \u001b[32m1.6/1.6 MB\u001b[0m \u001b[31m67.4 MB/s\u001b[0m eta \u001b[36m0:00:00\u001b[0m\n",
            "\u001b[?25hRequirement already satisfied: decorator in /usr/local/lib/python3.10/dist-packages (from ipython>=5.5.0->pycaret) (4.4.2)\n",
            "Requirement already satisfied: pickleshare in /usr/local/lib/python3.10/dist-packages (from ipython>=5.5.0->pycaret) (0.7.5)\n",
            "Requirement already satisfied: traitlets>=4.2 in /usr/local/lib/python3.10/dist-packages (from ipython>=5.5.0->pycaret) (5.7.1)\n",
            "Requirement already satisfied: prompt-toolkit!=3.0.0,!=3.0.1,<3.1.0,>=2.0.0 in /usr/local/lib/python3.10/dist-packages (from ipython>=5.5.0->pycaret) (3.0.47)\n",
            "Requirement already satisfied: pygments in /usr/local/lib/python3.10/dist-packages (from ipython>=5.5.0->pycaret) (2.16.1)\n",
            "Requirement already satisfied: backcall in /usr/local/lib/python3.10/dist-packages (from ipython>=5.5.0->pycaret) (0.2.0)\n",
            "Requirement already satisfied: matplotlib-inline in /usr/local/lib/python3.10/dist-packages (from ipython>=5.5.0->pycaret) (0.1.7)\n",
            "Requirement already satisfied: pexpect>4.3 in /usr/local/lib/python3.10/dist-packages (from ipython>=5.5.0->pycaret) (4.9.0)\n",
            "Requirement already satisfied: ipykernel>=4.5.1 in /usr/local/lib/python3.10/dist-packages (from ipywidgets>=7.6.5->pycaret) (5.5.6)\n",
            "Requirement already satisfied: ipython-genutils~=0.2.0 in /usr/local/lib/python3.10/dist-packages (from ipywidgets>=7.6.5->pycaret) (0.2.0)\n",
            "Requirement already satisfied: widgetsnbextension~=3.6.0 in /usr/local/lib/python3.10/dist-packages (from ipywidgets>=7.6.5->pycaret) (3.6.7)\n",
            "Requirement already satisfied: jupyterlab-widgets>=1.0.0 in /usr/local/lib/python3.10/dist-packages (from ipywidgets>=7.6.5->pycaret) (3.0.11)\n",
            "Requirement already satisfied: contourpy>=1.0.1 in /usr/local/lib/python3.10/dist-packages (from matplotlib<3.8.0->pycaret) (1.2.1)\n",
            "Requirement already satisfied: cycler>=0.10 in /usr/local/lib/python3.10/dist-packages (from matplotlib<3.8.0->pycaret) (0.12.1)\n",
            "Requirement already satisfied: fonttools>=4.22.0 in /usr/local/lib/python3.10/dist-packages (from matplotlib<3.8.0->pycaret) (4.53.1)\n",
            "Requirement already satisfied: kiwisolver>=1.0.1 in /usr/local/lib/python3.10/dist-packages (from matplotlib<3.8.0->pycaret) (1.4.5)\n",
            "Requirement already satisfied: pillow>=6.2.0 in /usr/local/lib/python3.10/dist-packages (from matplotlib<3.8.0->pycaret) (9.4.0)\n",
            "Requirement already satisfied: pyparsing>=2.3.1 in /usr/local/lib/python3.10/dist-packages (from matplotlib<3.8.0->pycaret) (3.1.2)\n",
            "Requirement already satisfied: python-dateutil>=2.7 in /usr/local/lib/python3.10/dist-packages (from matplotlib<3.8.0->pycaret) (2.8.2)\n",
            "Requirement already satisfied: fastjsonschema>=2.15 in /usr/local/lib/python3.10/dist-packages (from nbformat>=4.2.0->pycaret) (2.20.0)\n",
            "Requirement already satisfied: jsonschema>=2.6 in /usr/local/lib/python3.10/dist-packages (from nbformat>=4.2.0->pycaret) (4.19.2)\n",
            "Requirement already satisfied: jupyter-core!=5.0.*,>=4.12 in /usr/local/lib/python3.10/dist-packages (from nbformat>=4.2.0->pycaret) (5.7.2)\n",
            "Requirement already satisfied: llvmlite<0.42,>=0.41.0dev0 in /usr/local/lib/python3.10/dist-packages (from numba>=0.55.0->pycaret) (0.41.1)\n",
            "Requirement already satisfied: pytz>=2020.1 in /usr/local/lib/python3.10/dist-packages (from pandas<2.2.0->pycaret) (2023.4)\n",
            "Requirement already satisfied: tzdata>=2022.1 in /usr/local/lib/python3.10/dist-packages (from pandas<2.2.0->pycaret) (2024.1)\n",
            "Requirement already satisfied: tenacity>=6.2.0 in /usr/local/lib/python3.10/dist-packages (from plotly>=5.14.0->pycaret) (8.5.0)\n",
            "Collecting dash>=2.9.0 (from plotly-resampler>=0.8.3.1->pycaret)\n",
            "  Downloading dash-2.17.1-py3-none-any.whl (7.5 MB)\n",
            "\u001b[2K     \u001b[90m━━━━━━━━━━━━━━━━━━━━━━━━━━━━━━━━━━━━━━━━\u001b[0m \u001b[32m7.5/7.5 MB\u001b[0m \u001b[31m67.0 MB/s\u001b[0m eta \u001b[36m0:00:00\u001b[0m\n",
            "\u001b[?25hCollecting orjson<4.0.0,>=3.8.0 (from plotly-resampler>=0.8.3.1->pycaret)\n",
            "  Downloading orjson-3.10.6-cp310-cp310-manylinux_2_17_x86_64.manylinux2014_x86_64.whl (141 kB)\n",
            "\u001b[2K     \u001b[90m━━━━━━━━━━━━━━━━━━━━━━━━━━━━━━━━━━━━━━━━\u001b[0m \u001b[32m141.1/141.1 kB\u001b[0m \u001b[31m18.7 MB/s\u001b[0m eta \u001b[36m0:00:00\u001b[0m\n",
            "\u001b[?25hCollecting tsdownsample>=0.1.3 (from plotly-resampler>=0.8.3.1->pycaret)\n",
            "  Downloading tsdownsample-0.1.3-cp310-cp310-manylinux_2_17_x86_64.manylinux2014_x86_64.whl (2.1 MB)\n",
            "\u001b[2K     \u001b[90m━━━━━━━━━━━━━━━━━━━━━━━━━━━━━━━━━━━━━━━━\u001b[0m \u001b[32m2.1/2.1 MB\u001b[0m \u001b[31m57.8 MB/s\u001b[0m eta \u001b[36m0:00:00\u001b[0m\n",
            "\u001b[?25hRequirement already satisfied: Cython!=0.29.18,!=0.29.31,>=0.29 in /usr/local/lib/python3.10/dist-packages (from pmdarima>=2.0.4->pycaret) (3.0.10)\n",
            "Requirement already satisfied: urllib3 in /usr/local/lib/python3.10/dist-packages (from pmdarima>=2.0.4->pycaret) (2.0.7)\n",
            "Requirement already satisfied: charset-normalizer<4,>=2 in /usr/local/lib/python3.10/dist-packages (from requests>=2.27.1->pycaret) (3.3.2)\n",
            "Requirement already satisfied: idna<4,>=2.5 in /usr/local/lib/python3.10/dist-packages (from requests>=2.27.1->pycaret) (3.7)\n",
            "Requirement already satisfied: certifi>=2017.4.17 in /usr/local/lib/python3.10/dist-packages (from requests>=2.27.1->pycaret) (2024.7.4)\n",
            "Requirement already satisfied: Flask<3.1,>=1.0.4 in /usr/local/lib/python3.10/dist-packages (from dash>=2.9.0->plotly-resampler>=0.8.3.1->pycaret) (2.2.5)\n",
            "Requirement already satisfied: Werkzeug<3.1 in /usr/local/lib/python3.10/dist-packages (from dash>=2.9.0->plotly-resampler>=0.8.3.1->pycaret) (3.0.3)\n",
            "Collecting dash-html-components==2.0.0 (from dash>=2.9.0->plotly-resampler>=0.8.3.1->pycaret)\n",
            "  Downloading dash_html_components-2.0.0-py3-none-any.whl (4.1 kB)\n",
            "Collecting dash-core-components==2.0.0 (from dash>=2.9.0->plotly-resampler>=0.8.3.1->pycaret)\n",
            "  Downloading dash_core_components-2.0.0-py3-none-any.whl (3.8 kB)\n",
            "Collecting dash-table==5.0.0 (from dash>=2.9.0->plotly-resampler>=0.8.3.1->pycaret)\n",
            "  Downloading dash_table-5.0.0-py3-none-any.whl (3.9 kB)\n",
            "Requirement already satisfied: typing-extensions>=4.1.1 in /usr/local/lib/python3.10/dist-packages (from dash>=2.9.0->plotly-resampler>=0.8.3.1->pycaret) (4.12.2)\n",
            "Collecting retrying (from dash>=2.9.0->plotly-resampler>=0.8.3.1->pycaret)\n",
            "  Downloading retrying-1.3.4-py3-none-any.whl (11 kB)\n",
            "Requirement already satisfied: nest-asyncio in /usr/local/lib/python3.10/dist-packages (from dash>=2.9.0->plotly-resampler>=0.8.3.1->pycaret) (1.6.0)\n",
            "Requirement already satisfied: jupyter-client in /usr/local/lib/python3.10/dist-packages (from ipykernel>=4.5.1->ipywidgets>=7.6.5->pycaret) (6.1.12)\n",
            "Requirement already satisfied: tornado>=4.2 in /usr/local/lib/python3.10/dist-packages (from ipykernel>=4.5.1->ipywidgets>=7.6.5->pycaret) (6.3.3)\n",
            "Requirement already satisfied: parso<0.9.0,>=0.8.3 in /usr/local/lib/python3.10/dist-packages (from jedi>=0.16->ipython>=5.5.0->pycaret) (0.8.4)\n",
            "Requirement already satisfied: attrs>=22.2.0 in /usr/local/lib/python3.10/dist-packages (from jsonschema>=2.6->nbformat>=4.2.0->pycaret) (23.2.0)\n",
            "Requirement already satisfied: jsonschema-specifications>=2023.03.6 in /usr/local/lib/python3.10/dist-packages (from jsonschema>=2.6->nbformat>=4.2.0->pycaret) (2023.12.1)\n",
            "Requirement already satisfied: referencing>=0.28.4 in /usr/local/lib/python3.10/dist-packages (from jsonschema>=2.6->nbformat>=4.2.0->pycaret) (0.35.1)\n",
            "Requirement already satisfied: rpds-py>=0.7.1 in /usr/local/lib/python3.10/dist-packages (from jsonschema>=2.6->nbformat>=4.2.0->pycaret) (0.19.0)\n",
            "Requirement already satisfied: platformdirs>=2.5 in /usr/local/lib/python3.10/dist-packages (from jupyter-core!=5.0.*,>=4.12->nbformat>=4.2.0->pycaret) (4.2.2)\n",
            "Requirement already satisfied: six in /usr/local/lib/python3.10/dist-packages (from patsy>=0.5.1->category-encoders>=2.4.0->pycaret) (1.16.0)\n",
            "Requirement already satisfied: ptyprocess>=0.5 in /usr/local/lib/python3.10/dist-packages (from pexpect>4.3->ipython>=5.5.0->pycaret) (0.7.0)\n",
            "Requirement already satisfied: wcwidth in /usr/local/lib/python3.10/dist-packages (from prompt-toolkit!=3.0.0,!=3.0.1,<3.1.0,>=2.0.0->ipython>=5.5.0->pycaret) (0.2.13)\n",
            "Requirement already satisfied: notebook>=4.4.1 in /usr/local/lib/python3.10/dist-packages (from widgetsnbextension~=3.6.0->ipywidgets>=7.6.5->pycaret) (6.5.5)\n",
            "Requirement already satisfied: itsdangerous>=2.0 in /usr/local/lib/python3.10/dist-packages (from Flask<3.1,>=1.0.4->dash>=2.9.0->plotly-resampler>=0.8.3.1->pycaret) (2.2.0)\n",
            "Requirement already satisfied: click>=8.0 in /usr/local/lib/python3.10/dist-packages (from Flask<3.1,>=1.0.4->dash>=2.9.0->plotly-resampler>=0.8.3.1->pycaret) (8.1.7)\n",
            "Requirement already satisfied: pyzmq<25,>=17 in /usr/local/lib/python3.10/dist-packages (from notebook>=4.4.1->widgetsnbextension~=3.6.0->ipywidgets>=7.6.5->pycaret) (24.0.1)\n",
            "Requirement already satisfied: argon2-cffi in /usr/local/lib/python3.10/dist-packages (from notebook>=4.4.1->widgetsnbextension~=3.6.0->ipywidgets>=7.6.5->pycaret) (23.1.0)\n",
            "Requirement already satisfied: nbconvert>=5 in /usr/local/lib/python3.10/dist-packages (from notebook>=4.4.1->widgetsnbextension~=3.6.0->ipywidgets>=7.6.5->pycaret) (6.5.4)\n",
            "Requirement already satisfied: Send2Trash>=1.8.0 in /usr/local/lib/python3.10/dist-packages (from notebook>=4.4.1->widgetsnbextension~=3.6.0->ipywidgets>=7.6.5->pycaret) (1.8.3)\n",
            "Requirement already satisfied: terminado>=0.8.3 in /usr/local/lib/python3.10/dist-packages (from notebook>=4.4.1->widgetsnbextension~=3.6.0->ipywidgets>=7.6.5->pycaret) (0.18.1)\n",
            "Requirement already satisfied: prometheus-client in /usr/local/lib/python3.10/dist-packages (from notebook>=4.4.1->widgetsnbextension~=3.6.0->ipywidgets>=7.6.5->pycaret) (0.20.0)\n",
            "Requirement already satisfied: nbclassic>=0.4.7 in /usr/local/lib/python3.10/dist-packages (from notebook>=4.4.1->widgetsnbextension~=3.6.0->ipywidgets>=7.6.5->pycaret) (1.1.0)\n",
            "Requirement already satisfied: notebook-shim>=0.2.3 in /usr/local/lib/python3.10/dist-packages (from nbclassic>=0.4.7->notebook>=4.4.1->widgetsnbextension~=3.6.0->ipywidgets>=7.6.5->pycaret) (0.2.4)\n",
            "Requirement already satisfied: lxml in /usr/local/lib/python3.10/dist-packages (from nbconvert>=5->notebook>=4.4.1->widgetsnbextension~=3.6.0->ipywidgets>=7.6.5->pycaret) (4.9.4)\n",
            "Requirement already satisfied: beautifulsoup4 in /usr/local/lib/python3.10/dist-packages (from nbconvert>=5->notebook>=4.4.1->widgetsnbextension~=3.6.0->ipywidgets>=7.6.5->pycaret) (4.12.3)\n",
            "Requirement already satisfied: bleach in /usr/local/lib/python3.10/dist-packages (from nbconvert>=5->notebook>=4.4.1->widgetsnbextension~=3.6.0->ipywidgets>=7.6.5->pycaret) (6.1.0)\n",
            "Requirement already satisfied: defusedxml in /usr/local/lib/python3.10/dist-packages (from nbconvert>=5->notebook>=4.4.1->widgetsnbextension~=3.6.0->ipywidgets>=7.6.5->pycaret) (0.7.1)\n",
            "Requirement already satisfied: entrypoints>=0.2.2 in /usr/local/lib/python3.10/dist-packages (from nbconvert>=5->notebook>=4.4.1->widgetsnbextension~=3.6.0->ipywidgets>=7.6.5->pycaret) (0.4)\n",
            "Requirement already satisfied: jupyterlab-pygments in /usr/local/lib/python3.10/dist-packages (from nbconvert>=5->notebook>=4.4.1->widgetsnbextension~=3.6.0->ipywidgets>=7.6.5->pycaret) (0.3.0)\n",
            "Requirement already satisfied: mistune<2,>=0.8.1 in /usr/local/lib/python3.10/dist-packages (from nbconvert>=5->notebook>=4.4.1->widgetsnbextension~=3.6.0->ipywidgets>=7.6.5->pycaret) (0.8.4)\n",
            "Requirement already satisfied: nbclient>=0.5.0 in /usr/local/lib/python3.10/dist-packages (from nbconvert>=5->notebook>=4.4.1->widgetsnbextension~=3.6.0->ipywidgets>=7.6.5->pycaret) (0.10.0)\n",
            "Requirement already satisfied: pandocfilters>=1.4.1 in /usr/local/lib/python3.10/dist-packages (from nbconvert>=5->notebook>=4.4.1->widgetsnbextension~=3.6.0->ipywidgets>=7.6.5->pycaret) (1.5.1)\n",
            "Requirement already satisfied: tinycss2 in /usr/local/lib/python3.10/dist-packages (from nbconvert>=5->notebook>=4.4.1->widgetsnbextension~=3.6.0->ipywidgets>=7.6.5->pycaret) (1.3.0)\n",
            "Requirement already satisfied: argon2-cffi-bindings in /usr/local/lib/python3.10/dist-packages (from argon2-cffi->notebook>=4.4.1->widgetsnbextension~=3.6.0->ipywidgets>=7.6.5->pycaret) (21.2.0)\n",
            "Requirement already satisfied: jupyter-server<3,>=1.8 in /usr/local/lib/python3.10/dist-packages (from notebook-shim>=0.2.3->nbclassic>=0.4.7->notebook>=4.4.1->widgetsnbextension~=3.6.0->ipywidgets>=7.6.5->pycaret) (1.24.0)\n",
            "Requirement already satisfied: cffi>=1.0.1 in /usr/local/lib/python3.10/dist-packages (from argon2-cffi-bindings->argon2-cffi->notebook>=4.4.1->widgetsnbextension~=3.6.0->ipywidgets>=7.6.5->pycaret) (1.16.0)\n",
            "Requirement already satisfied: soupsieve>1.2 in /usr/local/lib/python3.10/dist-packages (from beautifulsoup4->nbconvert>=5->notebook>=4.4.1->widgetsnbextension~=3.6.0->ipywidgets>=7.6.5->pycaret) (2.5)\n",
            "Requirement already satisfied: webencodings in /usr/local/lib/python3.10/dist-packages (from bleach->nbconvert>=5->notebook>=4.4.1->widgetsnbextension~=3.6.0->ipywidgets>=7.6.5->pycaret) (0.5.1)\n",
            "Requirement already satisfied: pycparser in /usr/local/lib/python3.10/dist-packages (from cffi>=1.0.1->argon2-cffi-bindings->argon2-cffi->notebook>=4.4.1->widgetsnbextension~=3.6.0->ipywidgets>=7.6.5->pycaret) (2.22)\n",
            "Requirement already satisfied: anyio<4,>=3.1.0 in /usr/local/lib/python3.10/dist-packages (from jupyter-server<3,>=1.8->notebook-shim>=0.2.3->nbclassic>=0.4.7->notebook>=4.4.1->widgetsnbextension~=3.6.0->ipywidgets>=7.6.5->pycaret) (3.7.1)\n",
            "Requirement already satisfied: websocket-client in /usr/local/lib/python3.10/dist-packages (from jupyter-server<3,>=1.8->notebook-shim>=0.2.3->nbclassic>=0.4.7->notebook>=4.4.1->widgetsnbextension~=3.6.0->ipywidgets>=7.6.5->pycaret) (1.8.0)\n",
            "Requirement already satisfied: sniffio>=1.1 in /usr/local/lib/python3.10/dist-packages (from anyio<4,>=3.1.0->jupyter-server<3,>=1.8->notebook-shim>=0.2.3->nbclassic>=0.4.7->notebook>=4.4.1->widgetsnbextension~=3.6.0->ipywidgets>=7.6.5->pycaret) (1.3.1)\n",
            "Requirement already satisfied: exceptiongroup in /usr/local/lib/python3.10/dist-packages (from anyio<4,>=3.1.0->jupyter-server<3,>=1.8->notebook-shim>=0.2.3->nbclassic>=0.4.7->notebook>=4.4.1->widgetsnbextension~=3.6.0->ipywidgets>=7.6.5->pycaret) (1.2.2)\n",
            "Building wheels for collected packages: pyod\n",
            "  Building wheel for pyod (setup.py) ... \u001b[?25l\u001b[?25hdone\n",
            "  Created wheel for pyod: filename=pyod-2.0.1-py3-none-any.whl size=193267 sha256=39976427e73e6744b1622badcb826b6336173363c66599b09f8bd1882f965fd1\n",
            "  Stored in directory: /root/.cache/pip/wheels/94/75/88/b853cf33b0053b0a001dca55b74d515048b7656e736364eb57\n",
            "Successfully built pyod\n",
            "Installing collected packages: kaleido, dash-table, dash-html-components, dash-core-components, xxhash, wurlitzer, tsdownsample, scikit-base, schemdraw, retrying, orjson, joblib, jedi, deprecation, scikit-learn, sktime, scikit-plot, pyod, imbalanced-learn, dash, pmdarima, plotly-resampler, category-encoders, tbats, pycaret\n",
            "  Attempting uninstall: joblib\n",
            "    Found existing installation: joblib 1.4.2\n",
            "    Uninstalling joblib-1.4.2:\n",
            "      Successfully uninstalled joblib-1.4.2\n",
            "  Attempting uninstall: scikit-learn\n",
            "    Found existing installation: scikit-learn 1.2.2\n",
            "    Uninstalling scikit-learn-1.2.2:\n",
            "      Successfully uninstalled scikit-learn-1.2.2\n",
            "  Attempting uninstall: imbalanced-learn\n",
            "    Found existing installation: imbalanced-learn 0.10.1\n",
            "    Uninstalling imbalanced-learn-0.10.1:\n",
            "      Successfully uninstalled imbalanced-learn-0.10.1\n",
            "Successfully installed category-encoders-2.6.3 dash-2.17.1 dash-core-components-2.0.0 dash-html-components-2.0.0 dash-table-5.0.0 deprecation-2.1.0 imbalanced-learn-0.12.3 jedi-0.19.1 joblib-1.3.2 kaleido-0.2.1 orjson-3.10.6 plotly-resampler-0.10.0 pmdarima-2.0.4 pycaret-3.3.2 pyod-2.0.1 retrying-1.3.4 schemdraw-0.15 scikit-base-0.7.8 scikit-learn-1.4.2 scikit-plot-0.3.7 sktime-0.26.0 tbats-1.1.3 tsdownsample-0.1.3 wurlitzer-3.1.1 xxhash-3.4.1\n"
          ]
        }
      ]
    },
    {
      "cell_type": "code",
      "metadata": {
        "id": "7LfnpwSS9nue"
      },
      "source": [
        "#εισαγωγή βιβλιοθηκών - πακέτων\n",
        "import pycaret\n",
        "import pandas as pd\n",
        "import numpy as np\n",
        "import matplotlib.pyplot as plt\n",
        "from pycaret.classification import *"
      ],
      "execution_count": 18,
      "outputs": []
    },
    {
      "cell_type": "code",
      "metadata": {
        "colab": {
          "base_uri": "https://localhost:8080/"
        },
        "id": "ZunbzPVa9a6g",
        "outputId": "fc717eea-3916-48db-8c6b-1db707d70aeb"
      },
      "source": [
        "#εισαγωγή του συνόλου δεδομένων\n",
        "url = 'https://raw.githubusercontent.com/kdemertzis/EKPA/main/Data/dga_domain.csv'\n",
        "df = pd.read_csv(url)\n",
        "#έλεγχος σχήματος συνόλου δεδομένων\n",
        "print(df.shape)"
      ],
      "execution_count": 19,
      "outputs": [
        {
          "output_type": "stream",
          "name": "stdout",
          "text": [
            "(117588, 6)\n"
          ]
        }
      ]
    },
    {
      "cell_type": "code",
      "source": [
        "#ανακάτεμα των δεδομένων\n",
        "df = df.sample(frac = 1)\n",
        "print(df.head())"
      ],
      "metadata": {
        "id": "DCynJDtpYx8z",
        "outputId": "c07b617c-fe87-4bb7-85ad-6dd45db052ee",
        "colab": {
          "base_uri": "https://localhost:8080/"
        }
      },
      "execution_count": 20,
      "outputs": [
        {
          "output_type": "stream",
          "name": "stdout",
          "text": [
            "        length   entropy   alexa_grams   word_grams       diff  class\n",
            "38415        9  2.641604     24.386932    31.217833  -6.830901  legit\n",
            "88467       10  2.921928     23.058860    22.804422   0.254439  legit\n",
            "102470      18  3.461320     66.343207    91.523060 -25.179853    dga\n",
            "48132        5  1.921928      3.843606     4.061792  -0.218185  legit\n",
            "85574       14  3.521641     37.903340    56.766816 -18.863476  legit\n"
          ]
        }
      ]
    },
    {
      "cell_type": "code",
      "metadata": {
        "id": "J6y3Zhq2-EZ8"
      },
      "source": [
        "#εγκατάσταση του συνόλου δεδομένων\n",
        "grid = setup(data=df, target=df.columns[-1], html=False, verbose=False)"
      ],
      "execution_count": 21,
      "outputs": []
    },
    {
      "cell_type": "code",
      "metadata": {
        "colab": {
          "base_uri": "https://localhost:8080/"
        },
        "id": "ZGJ7kigzA1Rf",
        "outputId": "52854f88-319a-4d67-e33f-7c90b97ca549"
      },
      "source": [
        "#σύγκριση των διαθέσιμων μοντέλων ΜΜ\n",
        "best = compare_models(cross_validation=False, n_select = 1)\n",
        "%reload_ext tensorboard"
      ],
      "execution_count": 22,
      "outputs": [
        {
          "output_type": "stream",
          "name": "stderr",
          "text": [
            "                                                           "
          ]
        },
        {
          "output_type": "stream",
          "name": "stdout",
          "text": [
            "                                    Model  Accuracy     AUC  Recall   Prec.  \\\n",
            "gbc          Gradient Boosting Classifier    0.8888  0.9092  0.8888  0.8900   \n",
            "lightgbm  Light Gradient Boosting Machine    0.8888  0.9113  0.8888  0.8899   \n",
            "xgboost         Extreme Gradient Boosting    0.8872  0.9100  0.8872  0.8871   \n",
            "rf               Random Forest Classifier    0.8821  0.8966  0.8821  0.8784   \n",
            "lr                    Logistic Regression    0.8755  0.8770  0.8755  0.8735   \n",
            "knn                K Neighbors Classifier    0.8744  0.8660  0.8744  0.8696   \n",
            "et                 Extra Trees Classifier    0.8716  0.8871  0.8716  0.8661   \n",
            "qda       Quadratic Discriminant Analysis    0.8693  0.8788  0.8693  0.8712   \n",
            "lda          Linear Discriminant Analysis    0.8505  0.8604  0.8505  0.8551   \n",
            "ridge                    Ridge Classifier    0.8323  0.0000  0.8323  0.8541   \n",
            "dt               Decision Tree Classifier    0.8287  0.7876  0.8287  0.8293   \n",
            "svm                   SVM - Linear Kernel    0.7779  0.0000  0.7779  0.8244   \n",
            "ada                  Ada Boost Classifier    0.7684  0.5768  0.7684  0.6495   \n",
            "nb                            Naive Bayes    0.7663  0.7770  0.7663  0.7398   \n",
            "dummy                    Dummy Classifier    0.7342  0.0000  0.7342  0.5391   \n",
            "\n",
            "              F1   Kappa     MCC  TT (Sec)  \n",
            "gbc       0.8793  0.6971  0.7160     59.53  \n",
            "lightgbm  0.8796  0.6974  0.7158      1.42  \n",
            "xgboost   0.8785  0.6948  0.7112      4.11  \n",
            "rf        0.8754  0.6878  0.6973     24.56  \n",
            "lr        0.8665  0.6636  0.6786     10.01  \n",
            "knn       0.8674  0.6676  0.6765      0.14  \n",
            "et        0.8661  0.6660  0.6712      6.02  \n",
            "qda       0.8572  0.6437  0.6641      0.06  \n",
            "lda       0.8375  0.5781  0.6056      0.12  \n",
            "ridge     0.7988  0.4781  0.5446      0.07  \n",
            "dt        0.8290  0.5811  0.5811      1.43  \n",
            "svm       0.7904  0.5245  0.5430      4.44  \n",
            "ada       0.6741  0.2251  0.3426      5.36  \n",
            "nb        0.7449  0.3695  0.3798      0.06  \n",
            "dummy     0.6217  0.0000  0.0000      0.04  \n"
          ]
        },
        {
          "output_type": "stream",
          "name": "stderr",
          "text": [
            "\r"
          ]
        }
      ]
    },
    {
      "cell_type": "code",
      "metadata": {
        "colab": {
          "base_uri": "https://localhost:8080/"
        },
        "id": "TorFLtNx-kCm",
        "outputId": "eb792d5c-f0e7-475b-e545-308965412692"
      },
      "source": [
        "#αναφορά των υπερπαραμέτρων του μοντέλου με την υψηλότερη απόδοση\n",
        "print(best)"
      ],
      "execution_count": 23,
      "outputs": [
        {
          "output_type": "stream",
          "name": "stdout",
          "text": [
            "GradientBoostingClassifier(ccp_alpha=0.0, criterion='friedman_mse', init=None,\n",
            "                           learning_rate=0.1, loss='log_loss', max_depth=3,\n",
            "                           max_features=None, max_leaf_nodes=None,\n",
            "                           min_impurity_decrease=0.0, min_samples_leaf=1,\n",
            "                           min_samples_split=2, min_weight_fraction_leaf=0.0,\n",
            "                           n_estimators=100, n_iter_no_change=None,\n",
            "                           random_state=7229, subsample=1.0, tol=0.0001,\n",
            "                           validation_fraction=0.1, verbose=0,\n",
            "                           warm_start=False)\n"
          ]
        }
      ]
    },
    {
      "cell_type": "code",
      "metadata": {
        "id": "XJTnGY38yxrE",
        "outputId": "f32c7529-9354-4639-ebc4-9549b280fcd5",
        "colab": {
          "base_uri": "https://localhost:8080/",
          "height": 597,
          "referenced_widgets": [
            "e41982af248f478c93b2432bfdef66e9",
            "42e6ed3bd07b49ccbac8a15a36eea339",
            "9465d4b1c52e405f8a77c5e968f00597",
            "2f9a61aad52f454b863920629c8667bc",
            "0189e72ffc8d40698be1bcbab2aec704",
            "28d2207b87f946cf93d67c34c4efedac",
            "2fef4e1267dd4beeb5e1d8ea57ebac3d"
          ]
        }
      },
      "source": [
        "#μέτρα αξιολόγησης του μοντέλου με την υψηλότερη απόδοση\n",
        "evaluate_model(best)"
      ],
      "execution_count": 24,
      "outputs": [
        {
          "output_type": "display_data",
          "data": {
            "text/plain": [
              "interactive(children=(ToggleButtons(description='Plot Type:', icons=('',), options=(('Pipeline Plot', 'pipelin…"
            ],
            "application/vnd.jupyter.widget-view+json": {
              "version_major": 2,
              "version_minor": 0,
              "model_id": "e41982af248f478c93b2432bfdef66e9"
            }
          },
          "metadata": {
            "application/vnd.jupyter.widget-view+json": {
              "colab": {
                "custom_widget_manager": {
                  "url": "https://ssl.gstatic.com/colaboratory-static/widgets/colab-cdn-widget-manager/2b70e893a8ba7c0f/manager.min.js"
                }
              }
            }
          }
        }
      ]
    }
  ]
}